{
 "cells": [
  {
   "cell_type": "code",
   "execution_count": 3,
   "id": "8f83ca75",
   "metadata": {},
   "outputs": [],
   "source": [
    "import numpy as np\n",
    "from sklearn.base import BaseEstimator, ClassifierMixin\n",
    "import abc"
   ]
  },
  {
   "cell_type": "code",
   "execution_count": null,
   "id": "c4dbab77",
   "metadata": {},
   "outputs": [],
   "source": [
    "class Kernel(abc.ABC):\n",
    "    def __init__(self, bw=1.0):\n",
    "        self.bw = float(bw)\n",
    "        \n",
    "    @abc.abstractmethod\n",
    "    def fit(self, X):\n",
    "        raise NotImplemented\n",
    "    @abc.abstractmethod\n",
    "    def score_samples(self, P):\n",
    "        raise NotImplemented"
   ]
  },
  {
   "cell_type": "code",
   "execution_count": 6,
   "id": "be0e183f",
   "metadata": {},
   "outputs": [],
   "source": [
    "class GaussianKernel(Kernel):\n",
    "    \n",
    "    def fit(self, X):\n",
    "        self.X = np.asarray(X, float)\n",
    "        self.n_samples, self.n_features = self.X.shape\n",
    "        self.X_norm_sq = np.sum(self.X**2, axis=1)\n",
    "        return self\n",
    "\n",
    "    def score_samples(self, points):\n",
    "        P = np.atleast_2d(points).astype(float)\n",
    "        P_norm_sq = np.sum(P**2, axis=1)\n",
    "        D2 = P_norm_sq[:, None] + self.X_norm_sq[None, :] - 2 * P.dot(self.X.T)\n",
    "        K = np.exp(-0.5 * D2 / self.bandwidth**2)\n",
    "        norm = (2*np.pi)**(self.n_features/2) * self.bandwidth**self.n_features * self.n_samples\n",
    "        return K.sum(axis=1) / norm"
   ]
  },
  {
   "cell_type": "code",
   "execution_count": 7,
   "id": "2060edd2",
   "metadata": {},
   "outputs": [],
   "source": [
    "class KDE(BaseEstimator):\n",
    "    '''\n",
    "    bandwidth: float\n",
    "        The bandwidth of the kernel.\n",
    "    '''\n",
    "    \n",
    "    def __init__(self, bandwidth=1.0):\n",
    "        self.bandwidth = bandwidth\n",
    "        self.kernel = 'gaussian'\n",
    "        self.kernel_obj = None\n",
    "        \n",
    "    def set_kernel(self, kernel):\n",
    "        if kernel not in ['gaussian', 'tophat', 'epanechnikov', 'exponential', 'linear', 'cosine']:\n",
    "            raise ValueError(\"invalid kernel type\")\n",
    "        self.kernel = kernel\n",
    "        if kernel == 'gaussian':\n",
    "            self.kernel_obj = GaussianKernel(self.bandwidth)\n",
    "        # // TODO: implement other kernels\n",
    "        \n",
    "    \n",
    "    def fit(self, X, y=None):\n",
    "        '''\n",
    "        Fit KDE model.\n",
    "        \n",
    "        X: DF\n",
    "        y: array-like of target variable\n",
    "        '''\n",
    "        \n",
    "        self.kernel_obj.fit(X)\n",
    "        \n",
    "    def score_samples(self, points):\n",
    "        ''' \n",
    "        Compute density for points.\n",
    "        returns array[m]\n",
    "        '''\n",
    "        return self.kernel_obj.score_samples(points)\n",
    "        \n",
    "\n",
    "        \n",
    "        "
   ]
  }
 ],
 "metadata": {
  "kernelspec": {
   "display_name": "Python 3",
   "language": "python",
   "name": "python3"
  },
  "language_info": {
   "codemirror_mode": {
    "name": "ipython",
    "version": 3
   },
   "file_extension": ".py",
   "mimetype": "text/x-python",
   "name": "python",
   "nbconvert_exporter": "python",
   "pygments_lexer": "ipython3",
   "version": "3.11.11"
  }
 },
 "nbformat": 4,
 "nbformat_minor": 5
}
