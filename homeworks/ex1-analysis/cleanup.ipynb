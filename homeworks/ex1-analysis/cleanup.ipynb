{
 "cells": [
  {
   "cell_type": "code",
   "execution_count": 3,
   "metadata": {},
   "outputs": [],
   "source": [
    "import numpy as np\n",
    "import pandas as pd\n",
    "import time\n",
    "import random\n",
    "import matplotlib.pyplot as plt\n",
    "import seaborn as sns\n",
    "from sklearn import datasets\n",
    "from sklearn.preprocessing import PolynomialFeatures\n",
    "from sklearn.model_selection import train_test_split\n",
    "from sklearn.preprocessing import StandardScaler\n",
    "from sklearn.linear_model import (\n",
    "    HuberRegressor,\n",
    "    LinearRegression,\n",
    "    RANSACRegressor,\n",
    "    TheilSenRegressor,\n",
    ")\n",
    "from sklearn.metrics import mean_squared_error\n",
    "from sklearn.pipeline import make_pipeline\n",
    "from sklearn.preprocessing import PolynomialFeatures\n",
    "np.random.seed(42)"
   ]
  },
  {
   "cell_type": "markdown",
   "metadata": {},
   "source": [
    "Ваши задачи следующие:\n",
    "1. Проанализировать данные, которые вам попались. Какие выводы можно сделать только из анализа? Проведите визуальный и статический анализ, опишите ваши находки.\n",
    "2. Определите, какое моделирование доступно для ваших данных. Какие есть в них связи? \n",
    "3. Опишите возможные верхнеуровневые задачи, которые можно решать с помощью таких данных.\n",
    "4. Очистите и обработайте данные. Опишите, какие в них были проблемы.\n",
    "5. Постройте подходящую предсказательную модель. Обоснуйте ее выбор.\n",
    "6. Выберите и обоснуйте метрики для ее оценки. Покажите, как модель работает на данных, которые не видела при обучении.\n",
    "7. Представьте, что решаете реальную бизнес-задачу. Как вы могли бы использовать вашу модель? Какие бизнес-метрики могли бы быть использованы для ее контроля?"
   ]
  },
  {
   "cell_type": "markdown",
   "metadata": {},
   "source": [
    "**Чистка**"
   ]
  },
  {
   "cell_type": "code",
   "execution_count": 4,
   "metadata": {},
   "outputs": [],
   "source": [
    "data_path = '../../data/dirty_cafe_sales.csv'"
   ]
  },
  {
   "cell_type": "code",
   "execution_count": 5,
   "metadata": {},
   "outputs": [
    {
     "name": "stdout",
     "output_type": "stream",
     "text": [
      "<class 'pandas.core.frame.DataFrame'>\n",
      "RangeIndex: 10000 entries, 0 to 9999\n",
      "Data columns (total 8 columns):\n",
      " #   Column            Non-Null Count  Dtype \n",
      "---  ------            --------------  ----- \n",
      " 0   Transaction ID    10000 non-null  object\n",
      " 1   Item              9667 non-null   object\n",
      " 2   Quantity          9862 non-null   object\n",
      " 3   Price Per Unit    9821 non-null   object\n",
      " 4   Total Spent       9827 non-null   object\n",
      " 5   Payment Method    7421 non-null   object\n",
      " 6   Location          6735 non-null   object\n",
      " 7   Transaction Date  9841 non-null   object\n",
      "dtypes: object(8)\n",
      "memory usage: 625.1+ KB\n",
      "None \n",
      "\n"
     ]
    }
   ],
   "source": [
    "df = pd.read_csv(data_path)\n",
    "df = pd.DataFrame(df)\n",
    "# print(df.head(),'\\n')\n",
    "print(df.info(),'\\n')"
   ]
  },
  {
   "cell_type": "code",
   "execution_count": 6,
   "metadata": {},
   "outputs": [
    {
     "data": {
      "text/plain": [
       "array(['Coffee', 'Cake', 'Cookie', 'Salad', 'Smoothie', 'UNKNOWN',\n",
       "       'Sandwich', nan, 'ERROR', 'Juice', 'Tea'], dtype=object)"
      ]
     },
     "execution_count": 6,
     "metadata": {},
     "output_type": "execute_result"
    }
   ],
   "source": [
    "items = df['Item'].unique()\n",
    "quantity = df['Quantity'].unique()\n",
    "ppu = df['Price Per Unit'].unique()\n",
    "total_spent = df['Total Spent'].unique()\n",
    "payment_method = df['Payment Method'].unique()\n",
    "location = df['Location'].unique()\n",
    "date = df['Transaction Date'].unique()\n",
    "items"
   ]
  },
  {
   "cell_type": "markdown",
   "metadata": {},
   "source": [
    "*** Данные грязные. Исправим это. ***"
   ]
  },
  {
   "cell_type": "code",
   "execution_count": 7,
   "metadata": {},
   "outputs": [
    {
     "name": "stdout",
     "output_type": "stream",
     "text": [
      "CHECK ITEM PRICES\n",
      "\n",
      "..Find default prices for each item\n",
      "\n",
      "Coffee\n",
      "['2.0' nan 'ERROR' 'UNKNOWN']\n",
      "Cake\n",
      "['3.0' nan 'UNKNOWN' 'ERROR']\n",
      "Cookie\n",
      "['1.0' 'UNKNOWN' nan 'ERROR']\n",
      "Salad\n",
      "['5.0' 'ERROR' 'UNKNOWN' nan]\n",
      "Smoothie\n",
      "['4.0' nan 'UNKNOWN' 'ERROR']\n",
      "UNKNOWN\n",
      "['3.0' '1.0' '5.0' '4.0' '1.5' '2.0' nan 'UNKNOWN' 'ERROR']\n",
      "Sandwich\n",
      "['4.0' nan 'ERROR' 'UNKNOWN']\n",
      "nan\n",
      "[]\n",
      "ERROR\n",
      "['1.5' '3.0' '5.0' nan '4.0' '2.0' '1.0' 'UNKNOWN' 'ERROR']\n",
      "Juice\n",
      "['3.0' nan 'UNKNOWN' 'ERROR']\n",
      "Tea\n",
      "['1.5' nan 'ERROR' 'UNKNOWN']\n",
      "...unique items BEFORE: ['Coffee' 'Cake' 'Cookie' 'Salad' 'Smoothie' 'UNKNOWN' 'Sandwich' nan\n",
      " 'ERROR' 'Juice' 'Tea']\n",
      "...unique items AFTER: ['Coffee' 'Cake' 'Cookie' 'Salad' 'Smoothie' 'UNKNOWN' 'Sandwich' nan\n",
      " 'ERROR' 'Juice' 'Tea']\n"
     ]
    }
   ],
   "source": [
    "print(\"CHECK ITEM PRICES\\n\")\n",
    "\n",
    "print(\"..Find default prices for each item\\n\")\n",
    "for item in items:\n",
    "    print(item)\n",
    "    print(df[df['Item'] == item]['Price Per Unit'].unique())\n",
    "    \n",
    "print('...unique items BEFORE:', items)\n",
    "df.loc[df['Item'] == 'Coffee', 'Price Per Unit'] = 2.0\n",
    "df.loc[df['Item'] == 'Cake', 'Price Per Unit'] = 3.0\n",
    "df.loc[df['Item'] == 'Cookie', 'Price Per Unit'] = 1.0\n",
    "df.loc[df['Item'] == 'Salad', 'Price Per Unit'] = 5.0\n",
    "df.loc[df['Item'] == 'Smoothie', 'Price Per Unit'] = 4.0\n",
    "df.loc[df['Item'] == 'Juice', 'Price Per Unit'] = 3.0\n",
    "df.loc[df['Item'] == 'Tea', 'Price Per Unit'] = 1.5\n",
    "df.loc[df['Item'] == 'Sandwich', 'Price Per Unit'] = 4.0\n",
    "\n",
    "items = df['Item'].unique()\n",
    "print('...unique items AFTER:', items)\n",
    "\n"
   ]
  },
  {
   "cell_type": "code",
   "execution_count": 8,
   "metadata": {},
   "outputs": [
    {
     "name": "stdout",
     "output_type": "stream",
     "text": [
      "Let Price PEr Unit = error, unknown, nan will be replaced with zero\n",
      "\n",
      "...unique price per unit BEFORE: ['2.0' '3.0' '1.0' '5.0' '4.0' '1.5' nan 'ERROR' 'UNKNOWN']\n",
      "...unique price per unit AFTER: [2.0 3.0 1.0 5.0 4.0 '3.0' '1.5' '2.0' '1.0' 1.5 '5.0' 0 '4.0']\n"
     ]
    }
   ],
   "source": [
    "print(\"Let Price PEr Unit = error, unknown, nan will be replaced with zero\\n\")\n",
    "\n",
    "print('...unique price per unit BEFORE:', ppu)\n",
    "df['Price Per Unit'] = df['Price Per Unit'].replace('ERROR', 0)\n",
    "df['Price Per Unit'] = df['Price Per Unit'].replace('UNKNOWN', 0)\n",
    "df['Price Per Unit'] = df['Price Per Unit'].replace(np.nan, 0)\n",
    "\n",
    "ppu = df['Price Per Unit'].unique()\n",
    "print('...unique price per unit AFTER:', ppu)\n"
   ]
  },
  {
   "cell_type": "code",
   "execution_count": 9,
   "metadata": {},
   "outputs": [
    {
     "name": "stdout",
     "output_type": "stream",
     "text": [
      "Let TotalSpent = error, unknown, nan will be replaced with zero\n",
      "\n",
      "...unique total spent BEFORE: ['4.0' '12.0' 'ERROR' '10.0' '20.0' '9.0' '16.0' '15.0' '25.0' '8.0' '5.0'\n",
      " '3.0' '6.0' nan 'UNKNOWN' '2.0' '1.0' '7.5' '4.5' '1.5']\n",
      "...unique total spent AFTER: ['4.0' '12.0' 0.0 '10.0' '20.0' '9.0' '16.0' '15.0' '25.0' '8.0' '5.0'\n",
      " '3.0' '6.0' '2.0' '1.0' '7.5' '4.5' '1.5']\n"
     ]
    }
   ],
   "source": [
    "print(\"Let TotalSpent = error, unknown, nan will be replaced with zero\\n\")\n",
    "print('...unique total spent BEFORE:', total_spent)\n",
    "\n",
    "df['Total Spent'] = df['Total Spent'].replace('ERROR', 0.0)\n",
    "df['Total Spent'] = df['Total Spent'].replace('UNKNOWN', 0.0)\n",
    "df['Total Spent'] = df['Total Spent'].replace(np.nan, 0.0)\n",
    "total_spent = df['Total Spent'].unique()\n",
    "\n",
    "print('...unique total spent AFTER:', total_spent)"
   ]
  },
  {
   "cell_type": "code",
   "execution_count": 10,
   "metadata": {},
   "outputs": [
    {
     "name": "stdout",
     "output_type": "stream",
     "text": [
      "...unique quantity BEFORE: ['2' '4' '5' '3' '1' 'ERROR' 'UNKNOWN' nan]\n",
      "...unique quantity AFTER: ['2' '4' '5' '3' '1' 1]\n"
     ]
    }
   ],
   "source": [
    "print('...unique quantity BEFORE:', quantity)\n",
    "df['Quantity'] = df['Quantity'].replace('ERROR', 1)\n",
    "df['Quantity'] = df['Quantity'].replace('UNKNOWN', 1)\n",
    "df['Quantity'] = df['Quantity'].replace(np.nan, 1)\n",
    "quantity = df['Quantity'].unique()\n",
    "\n",
    "print('...unique quantity AFTER:', quantity)\n"
   ]
  },
  {
   "cell_type": "code",
   "execution_count": 11,
   "metadata": {},
   "outputs": [],
   "source": [
    "df['Quantity'] = df['Quantity'].astype(np.float32)\n",
    "df['Price Per Unit'] = df['Price Per Unit'].astype(np.float32)\n",
    "df['Total Spent'] = df['Total Spent'].astype(np.float32)"
   ]
  },
  {
   "cell_type": "markdown",
   "metadata": {},
   "source": [
    "total_spent - общая сумма потраченных денег == quantity * price"
   ]
  },
  {
   "cell_type": "code",
   "execution_count": 12,
   "metadata": {},
   "outputs": [
    {
     "name": "stdout",
     "output_type": "stream",
     "text": [
      "     Transaction ID     Item  Quantity  Price Per Unit  Total Spent  \\\n",
      "1761    TXN_3611851      NaN       4.0             0.0          0.0   \n",
      "2289    TXN_7524977  UNKNOWN       4.0             0.0          0.0   \n",
      "4152    TXN_9646000    ERROR       2.0             0.0          0.0   \n",
      "\n",
      "     Payment Method  Location Transaction Date  \n",
      "1761    Credit Card       NaN       2023-02-09  \n",
      "2289          ERROR       NaN       2023-12-09  \n",
      "4152            NaN  In-store       2023-12-14  \n"
     ]
    }
   ],
   "source": [
    "# check if total_spent = price_per_unit * quantity\n",
    "\n",
    "wrong = df[df['Total Spent'] != df['Price Per Unit'] * df['Quantity']]\n",
    "# print(\"...wrong total spent:\\n\", wrong.head(5))\n",
    "\n",
    "# fix it\n",
    "df.loc[df['Total Spent'] == 0.0, 'Total Spent'] = df['Quantity'] * df['Price Per Unit']\n",
    "print(df[df['Total Spent'] == 0.0])\n"
   ]
  },
  {
   "cell_type": "markdown",
   "metadata": {},
   "source": [
    "у нас все еще беда с item == nan, error, unknown. Мы можем после правильного определения ppu, quantity, price найти сходства с обычными товарами и заполнить их."
   ]
  },
  {
   "cell_type": "code",
   "execution_count": 13,
   "metadata": {},
   "outputs": [
    {
     "name": "stdout",
     "output_type": "stream",
     "text": [
      "(344, 8)\n",
      "(292, 8)\n",
      "(0, 8)\n",
      "(333, 8)\n",
      "(10000, 8)\n"
     ]
    }
   ],
   "source": [
    "print(df[df['Item'] == 'UNKNOWN'].shape)\n",
    "print(df[df['Item'] == 'ERROR'].shape)\n",
    "print(df[df['Item'] == np.nan].shape)\n",
    "print(df[df['Item'].isna()].shape)\n",
    "\n",
    "print(df.shape)\n",
    "\n",
    "\n",
    "# # delete all rows with items = unknown, error, nan\n",
    "# df = df.drop(df[df['Item'] == 'UNKNOWN'].index)\n",
    "# df = df.drop(df[df['Item'] == 'ERROR'].index)\n",
    "# df = df.drop(df[df['Item'] == np.nan].index)\n",
    "# df = df.drop(df[df['Item'].isna()].index)\n",
    "# print('\\n')\n",
    "# print(df[df['Item'] == 'UNKNOWN'].shape)\n",
    "# print(df[df['Item'] == 'ERROR'].shape)\n",
    "# print(df[df['Item'] == np.nan].shape)\n",
    "# print(df[df['Item'].isna()].shape)\n",
    "# print(df.shape)\n"
   ]
  },
  {
   "cell_type": "code",
   "execution_count": 14,
   "metadata": {},
   "outputs": [
    {
     "name": "stdout",
     "output_type": "stream",
     "text": [
      "Transaction ID         0\n",
      "Item                 333\n",
      "Quantity               0\n",
      "Price Per Unit         0\n",
      "Total Spent            0\n",
      "Payment Method      2579\n",
      "Location            3265\n",
      "Transaction Date     159\n",
      "dtype: int64\n"
     ]
    }
   ],
   "source": [
    "# count of nan\n",
    "print(df.isna().sum())"
   ]
  },
  {
   "cell_type": "code",
   "execution_count": 15,
   "metadata": {},
   "outputs": [
    {
     "name": "stdout",
     "output_type": "stream",
     "text": [
      "...wrong:\n",
      "      Transaction ID     Item  Quantity  Price Per Unit  Total Spent  \\\n",
      "818     TXN_7940202      NaN       inf             0.0          4.0   \n",
      "3434    TXN_6457997  UNKNOWN       inf             0.0          4.0   \n",
      "3779    TXN_7376255  UNKNOWN       inf             0.0         25.0   \n",
      "4092    TXN_1840897  UNKNOWN       inf             0.0          5.0   \n",
      "7597    TXN_1082717    ERROR       inf             0.0          9.0   \n",
      "9382    TXN_4255580    ERROR       inf             0.0          3.0   \n",
      "9673    TXN_2480808  UNKNOWN       inf             0.0          4.0   \n",
      "9717    TXN_3334632      NaN       inf             0.0          2.0   \n",
      "9819    TXN_1208561      NaN       inf             0.0         20.0   \n",
      "\n",
      "      Payment Method  Location Transaction Date  \n",
      "818   Digital Wallet       NaN       2023-07-23  \n",
      "3434     Credit Card       NaN       2023-12-12  \n",
      "3779             NaN  In-store       2023-05-27  \n",
      "4092           ERROR       NaN       2023-06-03  \n",
      "7597  Digital Wallet  In-store       2023-12-13  \n",
      "9382            Cash       NaN              NaN  \n",
      "9673     Credit Card       NaN       2023-03-30  \n",
      "9717     Credit Card  Takeaway       2023-11-20  \n",
      "9819     Credit Card       NaN       2023-08-19  \n"
     ]
    }
   ],
   "source": [
    "# не забываем, что мы ppu, quantity, total_spent заменили на 0.0, 1.0, 0.0\n",
    "\n",
    "# Используем .loc вместо replace для замены значений:\n",
    "df.loc[df['Quantity'] == 1, 'Quantity'] = df.loc[df['Quantity'] == 1, 'Total Spent'] / df.loc[df['Quantity'] == 1, 'Price Per Unit']\n",
    "df.loc[df['Total Spent'] == 0.0, 'Total Spent'] = df.loc[df['Total Spent'] == 0.0, 'Quantity'] * df.loc[df['Total Spent'] == 0.0, 'Price Per Unit']\n",
    "df.loc[df['Price Per Unit'] == 0.0, 'Price Per Unit'] = df.loc[df['Price Per Unit'] == 0.0, 'Total Spent'] / df.loc[df['Price Per Unit'] == 0.0, 'Quantity']\n",
    "\n",
    "wrong = df[df['Total Spent'] != df['Price Per Unit'] * df['Quantity']]\n",
    "print(\"...wrong:\\n\", wrong)"
   ]
  },
  {
   "cell_type": "code",
   "execution_count": 16,
   "metadata": {},
   "outputs": [
    {
     "name": "stdout",
     "output_type": "stream",
     "text": [
      "...wrong:\n",
      " Empty DataFrame\n",
      "Columns: [Transaction ID, Item, Quantity, Price Per Unit, Total Spent, Payment Method, Location, Transaction Date]\n",
      "Index: []\n"
     ]
    }
   ],
   "source": [
    "# удалим строчки с quantity = inf\n",
    "df = df.drop(df[df['Quantity'] == np.inf].index)\n",
    "wrong = df[df['Total Spent'] != df['Price Per Unit'] * df['Quantity']]\n",
    "print(\"...wrong:\\n\", wrong)"
   ]
  },
  {
   "cell_type": "code",
   "execution_count": 17,
   "metadata": {},
   "outputs": [
    {
     "name": "stdout",
     "output_type": "stream",
     "text": [
      "Transaction ID         0\n",
      "Item                 330\n",
      "Quantity               0\n",
      "Price Per Unit         0\n",
      "Total Spent            0\n",
      "Payment Method      2578\n",
      "Location            3259\n",
      "Transaction Date     158\n",
      "dtype: int64\n"
     ]
    }
   ],
   "source": [
    "print(df.isna().sum())"
   ]
  },
  {
   "cell_type": "code",
   "execution_count": 18,
   "metadata": {},
   "outputs": [
    {
     "name": "stdout",
     "output_type": "stream",
     "text": [
      "     Transaction ID     Item  Quantity  Price Per Unit  Total Spent  \\\n",
      "1761    TXN_3611851      NaN       4.0             0.0          0.0   \n",
      "2289    TXN_7524977  UNKNOWN       4.0             0.0          0.0   \n",
      "4152    TXN_9646000    ERROR       2.0             0.0          0.0   \n",
      "\n",
      "     Payment Method  Location Transaction Date  \n",
      "1761    Credit Card       NaN       2023-02-09  \n",
      "2289          ERROR       NaN       2023-12-09  \n",
      "4152            NaN  In-store       2023-12-14  \n",
      "\n",
      "\n",
      "     Transaction ID     Item  Quantity  Price Per Unit  Total Spent  \\\n",
      "1761    TXN_3611851      NaN       4.0             0.0          0.0   \n",
      "2289    TXN_7524977  UNKNOWN       4.0             0.0          0.0   \n",
      "4152    TXN_9646000    ERROR       2.0             0.0          0.0   \n",
      "\n",
      "     Payment Method  Location Transaction Date  \n",
      "1761    Credit Card       NaN       2023-02-09  \n",
      "2289          ERROR       NaN       2023-12-09  \n",
      "4152            NaN  In-store       2023-12-14  \n",
      "Empty DataFrame\n",
      "Columns: [Transaction ID, Item, Quantity, Price Per Unit, Total Spent, Payment Method, Location, Transaction Date]\n",
      "Index: []\n",
      "\n",
      "\n",
      "Empty DataFrame\n",
      "Columns: [Transaction ID, Item, Quantity, Price Per Unit, Total Spent, Payment Method, Location, Transaction Date]\n",
      "Index: []\n"
     ]
    }
   ],
   "source": [
    "print(df[df['Total Spent'] == 0.0])\n",
    "print('\\n')\n",
    "print(df[df['Price Per Unit'] == 0.0])\n",
    "\n",
    "df = df.drop(df[df['Total Spent'] == 0.0].index)\n",
    "print(df[df['Total Spent'] == 0.0])\n",
    "print('\\n')\n",
    "print(df[df['Price Per Unit'] == 0.0])\n"
   ]
  },
  {
   "cell_type": "code",
   "execution_count": 19,
   "metadata": {},
   "outputs": [
    {
     "name": "stdout",
     "output_type": "stream",
     "text": [
      "Coffee\n",
      "[2.]\n",
      "Cake\n",
      "[3.]\n",
      "Cookie\n",
      "[1.]\n",
      "Salad\n",
      "[5.]\n",
      "Smoothie\n",
      "[4.]\n",
      "UNKNOWN\n",
      "[3.  1.  5.  4.  1.5 2. ]\n",
      "Sandwich\n",
      "[4.]\n",
      "nan\n",
      "[]\n",
      "ERROR\n",
      "[1.5 3.  5.  4.  2.  1. ]\n",
      "Juice\n",
      "[3.]\n",
      "Tea\n",
      "[1.5]\n",
      "NaN\n",
      "[3.  2.  1.  5.  4.  1.5]\n"
     ]
    }
   ],
   "source": [
    "for item in items:\n",
    "    print(item)\n",
    "    print(df[df['Item'] == item]['Price Per Unit'].unique())\n",
    "\n",
    "print('NaN')\n",
    "print(df[df['Item'].isna()]['Price Per Unit'].unique())"
   ]
  },
  {
   "cell_type": "markdown",
   "metadata": {},
   "source": [
    "!! Cake и Juice имеют цену 3.00; Sandwich, Smoothie –  4.00."
   ]
  },
  {
   "cell_type": "code",
   "execution_count": 20,
   "metadata": {},
   "outputs": [],
   "source": [
    "df.loc[df['Price Per Unit'] == 1.0, 'Item'] = 'Cookie'\n",
    "df.loc[df['Price Per Unit'] == 5.0, 'Item'] = 'Salad'\n",
    "df.loc[df['Price Per Unit'] == 2.0, 'Item'] = 'Coffee'\n",
    "df.loc[df['Price Per Unit'] == 1.5, 'Item'] = 'Tea'\n",
    "\n",
    "# for item in items:\n",
    "#     print(item)\n",
    "#     print(df[df['Item'] == item]['Price Per Unit'].unique())\n",
    "\n",
    "# print('NaN')\n",
    "# print(df[df['Item'].isna()]['Price Per Unit'].unique())"
   ]
  },
  {
   "cell_type": "code",
   "execution_count": 21,
   "metadata": {},
   "outputs": [
    {
     "name": "stdout",
     "output_type": "stream",
     "text": [
      "(155, 8)\n",
      "Coffee\n",
      "[2.]\n",
      "Cake\n",
      "[3.]\n",
      "Cookie\n",
      "[1.]\n",
      "Salad\n",
      "[5.]\n",
      "Smoothie\n",
      "[4.]\n",
      "Juice\n",
      "[3.]\n",
      "Sandwich\n",
      "[4.]\n",
      "Tea\n",
      "[1.5]\n",
      "NaN\n",
      "[]\n"
     ]
    }
   ],
   "source": [
    "idx1 = 0\n",
    "idx2 = 0\n",
    "print(df[df['Item'] == 'UNKNOWN'].shape)\n",
    "for i in df.index:\n",
    "    if df.loc[i, 'Item'] == 'UNKNOWN' or df.loc[i,'Item'] == 'ERROR' or pd.isna(df.loc[i,'Item']):\n",
    "        if df.loc[i,'Price Per Unit'] == 3.0:\n",
    "            df.loc[i, 'Item'] = 'Juice' if idx1 % 2 == 0 else 'Cake'\n",
    "            idx1 += 1\n",
    "        elif df.loc[i, 'Price Per Unit'] == 4.0:\n",
    "            df.loc[i, 'Item'] = 'Smoothie' if idx2 % 2 == 0 else 'Sandwich'\n",
    "            idx2 += 1\n",
    "        else:\n",
    "            raise ValueError(f\"Unknown price per unit: {df.loc[i,'Price Per Unit']} for row {i}\")\n",
    "        \n",
    "items = df['Item'].unique()\n",
    "    \n",
    "for item in items:\n",
    "    print(item)\n",
    "    print(df[df['Item'] == item]['Price Per Unit'].unique())\n",
    "\n",
    "print('NaN')\n",
    "print(df[df['Item'].isna()]['Price Per Unit'].unique())"
   ]
  },
  {
   "cell_type": "code",
   "execution_count": 22,
   "metadata": {},
   "outputs": [
    {
     "name": "stdout",
     "output_type": "stream",
     "text": [
      "Transaction ID         0\n",
      "Item                   0\n",
      "Quantity               0\n",
      "Price Per Unit         0\n",
      "Total Spent            0\n",
      "Payment Method      2577\n",
      "Location            3257\n",
      "Transaction Date     158\n",
      "dtype: int64\n"
     ]
    }
   ],
   "source": [
    "print(df.isna().sum())"
   ]
  },
  {
   "cell_type": "markdown",
   "metadata": {},
   "source": [
    "Остались payment method, location, transaction date"
   ]
  },
  {
   "cell_type": "code",
   "execution_count": 23,
   "metadata": {},
   "outputs": [
    {
     "name": "stdout",
     "output_type": "stream",
     "text": [
      "['Credit Card' 'Cash' 'UNKNOWN' 'Digital Wallet' 'ERROR' nan]\n",
      "(293, 8)\n",
      "(304, 8)\n",
      "(0, 8)\n",
      "(2577, 8)\n"
     ]
    }
   ],
   "source": [
    "print(df['Payment Method'].unique())\n",
    "print(df[df['Payment Method'] == 'UNKNOWN'].shape)\n",
    "print(df[df['Payment Method'] == 'ERROR'].shape)\n",
    "print(df[df['Payment Method'] == np.nan].shape)\n",
    "print(df[df['Payment Method'].isna()].shape)"
   ]
  },
  {
   "cell_type": "markdown",
   "metadata": {},
   "source": [
    "Раз уже так много нанов в payment method, то можем предположить, что это все cash. Ну а error - digital, unknown - card"
   ]
  },
  {
   "cell_type": "code",
   "execution_count": 24,
   "metadata": {},
   "outputs": [
    {
     "name": "stdout",
     "output_type": "stream",
     "text": [
      "['Credit Card' 'Cash' 'Digital Wallet']\n"
     ]
    }
   ],
   "source": [
    "df.loc[df['Payment Method'] == 'UNKNOWN', 'Payment Method'] = 'Credit Card'\n",
    "df.loc[df['Payment Method'] == 'ERROR', 'Payment Method'] = 'Digital Wallet'\n",
    "df.loc[df['Payment Method'].isna(), 'Payment Method'] = 'Cash'\n",
    "print(df['Payment Method'].unique())"
   ]
  },
  {
   "cell_type": "code",
   "execution_count": 25,
   "metadata": {},
   "outputs": [
    {
     "name": "stdout",
     "output_type": "stream",
     "text": [
      "['Takeaway' 'In-store' 'UNKNOWN' nan 'ERROR']\n",
      "(3021, 8)\n",
      "(3014, 8)\n",
      "(338, 8)\n",
      "(358, 8)\n",
      "(0, 8)\n",
      "(3257, 8)\n"
     ]
    }
   ],
   "source": [
    "print(df['Location'].unique())\n",
    "print(df[df['Location'] == 'Takeaway'].shape)\n",
    "print(df[df['Location'] == 'In-store'].shape)\n",
    "print(df[df['Location'] == 'UNKNOWN'].shape)\n",
    "print(df[df['Location'] == 'ERROR'].shape)\n",
    "print(df[df['Location'] == np.nan].shape)\n",
    "print(df[df['Location'].isna()].shape)"
   ]
  },
  {
   "cell_type": "markdown",
   "metadata": {},
   "source": [
    "с location,думаю, можно поступить так же, как с cake, juice, sandwich, smoothie."
   ]
  },
  {
   "cell_type": "code",
   "execution_count": 26,
   "metadata": {},
   "outputs": [
    {
     "name": "stdout",
     "output_type": "stream",
     "text": [
      "['Takeaway' 'In-store']\n"
     ]
    }
   ],
   "source": [
    "idx = 0\n",
    "for i in df.index:\n",
    "    if df.loc[i, 'Location'] == 'UNKNOWN' or df.loc[i,'Location'] == 'ERROR' or pd.isna(df.loc[i,'Location']):\n",
    "        df.loc[i, 'Location'] = 'In-store' if idx % 2 == 0 else 'Takeaway'\n",
    "        idx += 1\n",
    "print(df['Location'].unique())"
   ]
  },
  {
   "cell_type": "markdown",
   "metadata": {},
   "source": [
    "Осталась transaction date."
   ]
  },
  {
   "cell_type": "code",
   "execution_count": 27,
   "metadata": {},
   "outputs": [
    {
     "name": "stdout",
     "output_type": "stream",
     "text": [
      "(159, 8) (142, 8) (0, 8) (158, 8)\n",
      "(0, 8) (0, 8) (0, 8) (0, 8)\n"
     ]
    }
   ],
   "source": [
    "print(df[df['Transaction Date'] == 'UNKNOWN'].shape,\n",
    "df[df['Transaction Date'] == 'ERROR'].shape,    \n",
    "df[df['Transaction Date'] == np.nan].shape,\n",
    "df[df['Transaction Date'].isna()].shape,)\n",
    "\n",
    "dates = df['Transaction Date'].unique().astype(str).tolist()\n",
    "dates.sort()\n",
    "dates = dates[:len(dates)-3] # remove nan, error, unknown\n",
    "\n",
    "rs = np.random.MT19937(int(time.time()))\n",
    "\n",
    "for i in df.index:\n",
    "    if df.loc[i, 'Transaction Date'] == 'UNKNOWN' or df.loc[i,'Transaction Date'] == 'ERROR' or pd.isna(df.loc[i,'Transaction Date']):\n",
    "        df.loc[i, 'Transaction Date'] = np.random.Generator(rs).choice(dates)\n",
    "        \n",
    "print(df[df['Transaction Date'] == 'UNKNOWN'].shape,\n",
    "df[df['Transaction Date'] == 'ERROR'].shape,    \n",
    "df[df['Transaction Date'] == np.nan].shape,\n",
    "df[df['Transaction Date'].isna()].shape,)"
   ]
  },
  {
   "cell_type": "code",
   "execution_count": 28,
   "metadata": {},
   "outputs": [
    {
     "data": {
      "text/plain": [
       "Transaction ID      0\n",
       "Item                0\n",
       "Quantity            0\n",
       "Price Per Unit      0\n",
       "Total Spent         0\n",
       "Payment Method      0\n",
       "Location            0\n",
       "Transaction Date    0\n",
       "dtype: int64"
      ]
     },
     "execution_count": 28,
     "metadata": {},
     "output_type": "execute_result"
    }
   ],
   "source": [
    "df.isna().sum()"
   ]
  },
  {
   "cell_type": "code",
   "execution_count": 29,
   "metadata": {},
   "outputs": [],
   "source": [
    "# save clean df\n",
    "data_path = '../../data/cleaned_cafe_sales_clean.csv'\n",
    "\n",
    "df.to_csv(data_path, index=False)"
   ]
  }
 ],
 "metadata": {
  "kernelspec": {
   "display_name": "Python 3",
   "language": "python",
   "name": "python3"
  },
  "language_info": {
   "codemirror_mode": {
    "name": "ipython",
    "version": 3
   },
   "file_extension": ".py",
   "mimetype": "text/x-python",
   "name": "python",
   "nbconvert_exporter": "python",
   "pygments_lexer": "ipython3",
   "version": "3.11.11"
  }
 },
 "nbformat": 4,
 "nbformat_minor": 2
}
