{
 "cells": [
  {
   "cell_type": "code",
   "execution_count": 1,
   "id": "bdac0d28",
   "metadata": {},
   "outputs": [],
   "source": [
    "import pandas as pd\n",
    "import numpy as np\n",
    "import matplotlib.pyplot as plt\n",
    "import seaborn as sns\n",
    "import warnings\n",
    "\n",
    "warnings.filterwarnings('ignore')"
   ]
  },
  {
   "cell_type": "code",
   "execution_count": 2,
   "id": "2ee96ccd",
   "metadata": {},
   "outputs": [
    {
     "name": "stdout",
     "output_type": "stream",
     "text": [
      "(60346, 17)\n"
     ]
    }
   ],
   "source": [
    "test_ext = pd.read_csv('../../data/games/test_ext.csv')  \n",
    "print(test_ext.shape)\n",
    "\n",
    "test_ext.drop(columns=['author_id'], inplace=True)\n"
   ]
  },
  {
   "cell_type": "markdown",
   "id": "451fffc9",
   "metadata": {},
   "source": []
  },
  {
   "cell_type": "code",
   "execution_count": null,
   "id": "53e0891c",
   "metadata": {},
   "outputs": [],
   "source": []
  },
  {
   "cell_type": "code",
   "execution_count": 3,
   "id": "23182b79",
   "metadata": {},
   "outputs": [],
   "source": [
    "test_ext['text_len'] = test_ext['content'].str.len()\n",
    "test_ext['log_text_len'] = np.log1p(test_ext['text_len'])\n",
    "\n",
    "bins = [0,20,100,500,np.inf]\n",
    "labels = ['s', 'm', 'l', 'xl']\n",
    "test_ext['len_bin'] = pd.cut(\n",
    "    test_ext['text_len'],\n",
    "    bins=bins,\n",
    "    labels=labels,\n",
    "    include_lowest=True\n",
    ")\n",
    "\n",
    "test_ext = test_ext.drop(columns=['text_len'])\n",
    "test_ext['len_bin'] = test_ext['len_bin'].astype('category')"
   ]
  },
  {
   "cell_type": "code",
   "execution_count": 4,
   "id": "de424fe1",
   "metadata": {},
   "outputs": [],
   "source": [
    "test_ext = test_ext.drop(columns=['price_final'])\n",
    "test_ext = test_ext.drop(columns=['review_score'])\n",
    "test_ext = test_ext.drop(columns=['discount_percent'])\n",
    "test_ext = test_ext.drop(columns=['log_text_len'])"
   ]
  },
  {
   "cell_type": "code",
   "execution_count": 5,
   "id": "5732edad",
   "metadata": {},
   "outputs": [],
   "source": [
    "test_ext['total'] = test_ext['positive'] + test_ext['negative']\n",
    "test_ext['pos_ratio'] = test_ext['positive'] / test_ext['total']\n",
    "test_ext = test_ext.drop(columns=['positive',\n",
    "                                    'negative', 'steamspy_positive',\n",
    "                                    'steamspy_negative'])\n",
    "\n"
   ]
  },
  {
   "cell_type": "code",
   "execution_count": 6,
   "id": "f7c404e8",
   "metadata": {},
   "outputs": [],
   "source": [
    "labels = ['early','mid-era','recent','latest']\n",
    "test_ext['year_bin'] = pd.qcut(\n",
    "    test_ext['release_year'],\n",
    "    q=4,\n",
    "    labels=labels\n",
    ")"
   ]
  },
  {
   "cell_type": "code",
   "execution_count": 7,
   "id": "2cc1fdd9",
   "metadata": {},
   "outputs": [],
   "source": [
    "test_ext = test_ext.drop(columns=['release_year'])\n",
    "test_ext['year_bin'] = test_ext['year_bin'].astype('category')"
   ]
  },
  {
   "cell_type": "code",
   "execution_count": 8,
   "id": "e5cf9f79",
   "metadata": {},
   "outputs": [],
   "source": [
    "test_ext['log_recommendations'] = np.log1p(test_ext['recommendations'])\n",
    "test_ext = test_ext.drop(columns=['recommendations'])"
   ]
  },
  {
   "cell_type": "code",
   "execution_count": 9,
   "id": "a3bdabfa",
   "metadata": {},
   "outputs": [],
   "source": [
    "test_ext = test_ext.drop(columns=['app_id', 'price_initial', 'total'])"
   ]
  },
  {
   "cell_type": "code",
   "execution_count": 10,
   "id": "d5e690e3",
   "metadata": {},
   "outputs": [
    {
     "name": "stdout",
     "output_type": "stream",
     "text": [
      "<class 'pandas.core.frame.DataFrame'>\n",
      "RangeIndex: 60346 entries, 0 to 60345\n",
      "Data columns (total 7 columns):\n",
      " #   Column               Non-Null Count  Dtype   \n",
      "---  ------               --------------  -----   \n",
      " 0   content              60346 non-null  object  \n",
      " 1   is_free              60346 non-null  int64   \n",
      " 2   price                60346 non-null  float64 \n",
      " 3   len_bin              60346 non-null  category\n",
      " 4   pos_ratio            60346 non-null  float64 \n",
      " 5   year_bin             60346 non-null  category\n",
      " 6   log_recommendations  60346 non-null  float64 \n",
      "dtypes: category(2), float64(3), int64(1), object(1)\n",
      "memory usage: 2.4+ MB\n"
     ]
    }
   ],
   "source": [
    "drop_cols = ['name', 'currency']\n",
    "X_test = test_ext.drop(columns=drop_cols)\n",
    "X_test.info()\n",
    "\n",
    "num_feats=['is_free', 'price', 'log_recommendations', 'pos_ratio']\n",
    "cat_feats=['len_bin', 'year_bin']"
   ]
  },
  {
   "cell_type": "code",
   "execution_count": 11,
   "id": "661862ae",
   "metadata": {},
   "outputs": [
    {
     "name": "stdout",
     "output_type": "stream",
     "text": [
      "content                0\n",
      "name                   0\n",
      "is_free                0\n",
      "price                  0\n",
      "currency               0\n",
      "len_bin                0\n",
      "pos_ratio              0\n",
      "year_bin               0\n",
      "log_recommendations    0\n",
      "dtype: int64\n"
     ]
    }
   ],
   "source": [
    "import joblib\n",
    "\n",
    "print(test_ext.isna().sum())\n",
    "\n",
    "clf = joblib.load('../../catboost_tfidf_pipeline.joblib')\n",
    "preds = clf.predict_proba(X_test)[:, 1]\n",
    "test_ext['sentiment'] = (preds >= .5).astype(int)\n",
    "\n",
    "\n",
    "sub = test_ext[['sentiment']].copy()\n",
    "sub.index = np.arange(1, len(sub) + 1)\n",
    "sub.index.name = 'id'\n",
    "sub.to_csv('./submission.csv')"
   ]
  },
  {
   "cell_type": "code",
   "execution_count": 12,
   "id": "c18129ed",
   "metadata": {},
   "outputs": [
    {
     "name": "stdout",
     "output_type": "stream",
     "text": [
      "<class 'pandas.core.frame.DataFrame'>\n",
      "RangeIndex: 60346 entries, 0 to 60345\n",
      "Data columns (total 10 columns):\n",
      " #   Column               Non-Null Count  Dtype   \n",
      "---  ------               --------------  -----   \n",
      " 0   content              60346 non-null  object  \n",
      " 1   name                 60346 non-null  object  \n",
      " 2   is_free              60346 non-null  int64   \n",
      " 3   price                60346 non-null  float64 \n",
      " 4   currency             60346 non-null  object  \n",
      " 5   len_bin              60346 non-null  category\n",
      " 6   pos_ratio            60346 non-null  float64 \n",
      " 7   year_bin             60346 non-null  category\n",
      " 8   log_recommendations  60346 non-null  float64 \n",
      " 9   sentiment            60346 non-null  int64   \n",
      "dtypes: category(2), float64(3), int64(2), object(3)\n",
      "memory usage: 3.8+ MB\n"
     ]
    }
   ],
   "source": [
    "test_ext.info()"
   ]
  },
  {
   "cell_type": "code",
   "execution_count": null,
   "id": "f2ff26b8",
   "metadata": {},
   "outputs": [],
   "source": []
  }
 ],
 "metadata": {
  "kernelspec": {
   "display_name": "Python 3",
   "language": "python",
   "name": "python3"
  },
  "language_info": {
   "codemirror_mode": {
    "name": "ipython",
    "version": 3
   },
   "file_extension": ".py",
   "mimetype": "text/x-python",
   "name": "python",
   "nbconvert_exporter": "python",
   "pygments_lexer": "ipython3",
   "version": "3.11.11"
  }
 },
 "nbformat": 4,
 "nbformat_minor": 5
}
