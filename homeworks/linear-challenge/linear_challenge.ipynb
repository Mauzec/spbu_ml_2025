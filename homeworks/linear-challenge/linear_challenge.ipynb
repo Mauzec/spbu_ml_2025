{
 "cells": [
  {
   "cell_type": "code",
   "execution_count": 119,
   "id": "83fde5fd",
   "metadata": {},
   "outputs": [],
   "source": [
    "import pandas as pd\n",
    "import numpy as np\n",
    "from sklearn.preprocessing import StandardScaler, PolynomialFeatures\n",
    "from sklearn.linear_model import Ridge, Lasso, ElasticNet\n",
    "from sklearn.pipeline import Pipeline\n",
    "from sklearn.model_selection import GridSearchCV, KFold\n",
    "from sklearn.compose import TransformedTargetRegressor\n",
    "from sklearn.preprocessing import RobustScaler\n",
    "from sklearn.impute import KNNImputer\n",
    "from scipy import stats\n",
    "from sklearn.model_selection import cross_val_score"
   ]
  },
  {
   "cell_type": "code",
   "execution_count": 120,
   "id": "9aa049c8",
   "metadata": {},
   "outputs": [],
   "source": [
    "df_train = pd.read_csv('../../data/prices_train.csv')\n",
    "df_test = pd.read_csv('../../data/prices_test.csv')"
   ]
  },
  {
   "cell_type": "code",
   "execution_count": 121,
   "id": "07fa0eb6",
   "metadata": {},
   "outputs": [],
   "source": [
    "def fill_missing_by_loc(df, col):\n",
    "    # if \n",
    "    if df[col].isna().any():\n",
    "        feats = ['X5 latitude', 'X6 longitude']\n",
    "        valid_rows = df[feats + [col]].dropna()\n",
    "        \n",
    "        if len(valid_rows) > 5:\n",
    "            imputer = KNNImputer(n_neighbors=5)\n",
    "            df_impute = pd.DataFrame(imputer.fit_transform(\n",
    "                df[feats + [col]]\n",
    "            ), columns=feats + [col])\n",
    "            df[col] = df_impute[col]\n",
    "        else:\n",
    "            df[col].fillna(df[col].median(), inplace=True)\n",
    "    return df"
   ]
  },
  {
   "cell_type": "code",
   "execution_count": 122,
   "id": "6c4283af",
   "metadata": {},
   "outputs": [],
   "source": [
    "df_train = fill_missing_by_loc(df_train, 'X3 distance to the nearest MRT station')\n",
    "df_train = fill_missing_by_loc(df_train, 'X4 number of convenience stores')\n",
    "df_test = fill_missing_by_loc(df_test, 'X3 distance to the nearest MRT station')\n",
    "df_test = fill_missing_by_loc(df_test, 'X4 number of convenience stores')"
   ]
  },
  {
   "cell_type": "code",
   "execution_count": 123,
   "id": "e4dff2b4",
   "metadata": {},
   "outputs": [],
   "source": [
    "def feat_add(df):\n",
    "    lat_center = 24.9685\n",
    "    lon_center = 121.5325\n",
    "    df['dist_to_center'] = np.sqrt((df['X5 latitude'] - lat_center)**2 + \n",
    "                                  (df['X6 longitude'] - lon_center)**2)\n",
    "        \n",
    "    df['manhattan_dist'] = np.abs(df['X5 latitude'] - lat_center) + np.abs(df['X6 longitude'] - lon_center)\n",
    "    \n",
    "    df['weighted_mrt_dist'] = df['X3 distance to the nearest MRT station'] / (df['X2 house age'] + 1)\n",
    "    \n",
    "    df['store_density'] = df['X4 number of convenience stores'] / (df['dist_to_center'] + 0.01)\n",
    "    \n",
    "    df['log_mrt_dist'] = np.log1p(df['X3 distance to the nearest MRT station'])\n",
    "    df['exp_mrt_dist'] = 1 - np.exp(-df['X3 distance to the nearest MRT station']/5000)\n",
    "    \n",
    "    from sklearn.cluster import KMeans\n",
    "    if 'district_cluster' not in df.columns:\n",
    "        coords = df[['X5 latitude', 'X6 longitude']].values\n",
    "        kmeans = KMeans(n_clusters=5, random_state=42)\n",
    "        df['district_cluster'] = kmeans.fit_predict(coords)\n",
    "    \n",
    "    df['age_x_stores'] = df['X2 house age'] * df['X4 number of convenience stores']\n",
    "    df['age_x_mrt'] = df['X2 house age'] * df['log_mrt_dist']\n",
    "    df['stores_x_mrt'] = df['X4 number of convenience stores'] * df['exp_mrt_dist']\n",
    "    \n",
    "    df['year_sin'] = np.sin(2 * np.pi * (df['X1 transaction date'] % 1))\n",
    "    df['year_cos'] = np.cos(2 * np.pi * (df['X1 transaction date'] % 1))\n",
    "    \n",
    "    return df"
   ]
  },
  {
   "cell_type": "code",
   "execution_count": 124,
   "id": "7c1605c2",
   "metadata": {},
   "outputs": [],
   "source": [
    "df_train = feat_add(df_train)\n",
    "df_test = feat_add(df_test)"
   ]
  },
  {
   "cell_type": "code",
   "execution_count": 125,
   "id": "01bcbb75",
   "metadata": {},
   "outputs": [],
   "source": [
    "def outliers_find(df):\n",
    "    num_cols = df.select_dtypes(include=[np.number]).columns\n",
    "    \n",
    "    for col in num_cols:\n",
    "        if col not in ['X5 latitude', 'X6 longitude', 'district_cluster']: \n",
    "            z_scores = stats.zscore(df[col], nan_policy='omit')\n",
    "            # Z_i = (X_i - u) / delta\n",
    "            abs_z_scores = np.abs(z_scores)\n",
    "            filtered_entries = (abs_z_scores < 3) | np.isnan(z_scores)\n",
    "            df[col] = np.where(filtered_entries, df[col], df[col].median())\n",
    "    \n",
    "    return df"
   ]
  },
  {
   "cell_type": "code",
   "execution_count": 126,
   "id": "597c9264",
   "metadata": {},
   "outputs": [],
   "source": [
    "df_train = outliers_find(df_train)"
   ]
  },
  {
   "cell_type": "code",
   "execution_count": 127,
   "id": "a3cdf69e",
   "metadata": {},
   "outputs": [],
   "source": [
    "feats = [\n",
    "        'X1 transaction date', 'X2 house age', 'X3 distance to the nearest MRT station',\n",
    "    'X4 number of convenience stores', 'X5 latitude', 'X6 longitude',\n",
    "    'dist_to_center', 'manhattan_dist', 'weighted_mrt_dist', 'store_density',\n",
    "    'log_mrt_dist', 'exp_mrt_dist', 'district_cluster', \n",
    "    'age_x_stores', 'age_x_mrt', 'stores_x_mrt', 'year_sin', 'year_cos'\n",
    "]"
   ]
  },
  {
   "cell_type": "code",
   "execution_count": 128,
   "id": "5289670a",
   "metadata": {},
   "outputs": [
    {
     "name": "stdout",
     "output_type": "stream",
     "text": [
      "X1 transaction date                       0\n",
      "X2 house age                              0\n",
      "X3 distance to the nearest MRT station    0\n",
      "X4 number of convenience stores           0\n",
      "X5 latitude                               0\n",
      "X6 longitude                              0\n",
      "dist_to_center                            0\n",
      "manhattan_dist                            0\n",
      "weighted_mrt_dist                         0\n",
      "store_density                             0\n",
      "log_mrt_dist                              0\n",
      "exp_mrt_dist                              0\n",
      "district_cluster                          0\n",
      "age_x_stores                              0\n",
      "age_x_mrt                                 0\n",
      "stores_x_mrt                              0\n",
      "year_sin                                  0\n",
      "year_cos                                  0\n",
      "dtype: int64\n",
      "X1 transaction date                       0\n",
      "X2 house age                              0\n",
      "X3 distance to the nearest MRT station    0\n",
      "X4 number of convenience stores           0\n",
      "X5 latitude                               0\n",
      "X6 longitude                              0\n",
      "dist_to_center                            0\n",
      "manhattan_dist                            0\n",
      "weighted_mrt_dist                         0\n",
      "store_density                             0\n",
      "log_mrt_dist                              0\n",
      "exp_mrt_dist                              0\n",
      "district_cluster                          0\n",
      "age_x_stores                              0\n",
      "age_x_mrt                                 0\n",
      "stores_x_mrt                              0\n",
      "year_sin                                  0\n",
      "year_cos                                  0\n",
      "dtype: int64\n"
     ]
    },
    {
     "name": "stderr",
     "output_type": "stream",
     "text": [
      "/var/folders/58/48pb_kg90fjcfmtvf1zy398r0000gn/T/ipykernel_61599/3690304230.py:8: SettingWithCopyWarning: \n",
      "A value is trying to be set on a copy of a slice from a DataFrame.\n",
      "Try using .loc[row_indexer,col_indexer] = value instead\n",
      "\n",
      "See the caveats in the documentation: https://pandas.pydata.org/pandas-docs/stable/user_guide/indexing.html#returning-a-view-versus-a-copy\n",
      "  X_train[col] = X_train[col].fillna(median_val)\n",
      "/var/folders/58/48pb_kg90fjcfmtvf1zy398r0000gn/T/ipykernel_61599/3690304230.py:9: SettingWithCopyWarning: \n",
      "A value is trying to be set on a copy of a slice from a DataFrame.\n",
      "Try using .loc[row_indexer,col_indexer] = value instead\n",
      "\n",
      "See the caveats in the documentation: https://pandas.pydata.org/pandas-docs/stable/user_guide/indexing.html#returning-a-view-versus-a-copy\n",
      "  X_test[col] = X_test[col].fillna(median_val)\n",
      "/var/folders/58/48pb_kg90fjcfmtvf1zy398r0000gn/T/ipykernel_61599/3690304230.py:8: SettingWithCopyWarning: \n",
      "A value is trying to be set on a copy of a slice from a DataFrame.\n",
      "Try using .loc[row_indexer,col_indexer] = value instead\n",
      "\n",
      "See the caveats in the documentation: https://pandas.pydata.org/pandas-docs/stable/user_guide/indexing.html#returning-a-view-versus-a-copy\n",
      "  X_train[col] = X_train[col].fillna(median_val)\n",
      "/var/folders/58/48pb_kg90fjcfmtvf1zy398r0000gn/T/ipykernel_61599/3690304230.py:9: SettingWithCopyWarning: \n",
      "A value is trying to be set on a copy of a slice from a DataFrame.\n",
      "Try using .loc[row_indexer,col_indexer] = value instead\n",
      "\n",
      "See the caveats in the documentation: https://pandas.pydata.org/pandas-docs/stable/user_guide/indexing.html#returning-a-view-versus-a-copy\n",
      "  X_test[col] = X_test[col].fillna(median_val)\n",
      "/var/folders/58/48pb_kg90fjcfmtvf1zy398r0000gn/T/ipykernel_61599/3690304230.py:8: SettingWithCopyWarning: \n",
      "A value is trying to be set on a copy of a slice from a DataFrame.\n",
      "Try using .loc[row_indexer,col_indexer] = value instead\n",
      "\n",
      "See the caveats in the documentation: https://pandas.pydata.org/pandas-docs/stable/user_guide/indexing.html#returning-a-view-versus-a-copy\n",
      "  X_train[col] = X_train[col].fillna(median_val)\n",
      "/var/folders/58/48pb_kg90fjcfmtvf1zy398r0000gn/T/ipykernel_61599/3690304230.py:9: SettingWithCopyWarning: \n",
      "A value is trying to be set on a copy of a slice from a DataFrame.\n",
      "Try using .loc[row_indexer,col_indexer] = value instead\n",
      "\n",
      "See the caveats in the documentation: https://pandas.pydata.org/pandas-docs/stable/user_guide/indexing.html#returning-a-view-versus-a-copy\n",
      "  X_test[col] = X_test[col].fillna(median_val)\n",
      "/var/folders/58/48pb_kg90fjcfmtvf1zy398r0000gn/T/ipykernel_61599/3690304230.py:8: SettingWithCopyWarning: \n",
      "A value is trying to be set on a copy of a slice from a DataFrame.\n",
      "Try using .loc[row_indexer,col_indexer] = value instead\n",
      "\n",
      "See the caveats in the documentation: https://pandas.pydata.org/pandas-docs/stable/user_guide/indexing.html#returning-a-view-versus-a-copy\n",
      "  X_train[col] = X_train[col].fillna(median_val)\n",
      "/var/folders/58/48pb_kg90fjcfmtvf1zy398r0000gn/T/ipykernel_61599/3690304230.py:9: SettingWithCopyWarning: \n",
      "A value is trying to be set on a copy of a slice from a DataFrame.\n",
      "Try using .loc[row_indexer,col_indexer] = value instead\n",
      "\n",
      "See the caveats in the documentation: https://pandas.pydata.org/pandas-docs/stable/user_guide/indexing.html#returning-a-view-versus-a-copy\n",
      "  X_test[col] = X_test[col].fillna(median_val)\n"
     ]
    }
   ],
   "source": [
    "X_train = df_train[feats]\n",
    "y_train = df_train['Y house price of unit area']\n",
    "X_test = df_test[feats]\n",
    "\n",
    "for col in X_train.columns:\n",
    "    if X_train[col].isna().any() or X_test[col].isna().any():\n",
    "        median_val = X_train[col].median()\n",
    "        X_train[col] = X_train[col].fillna(median_val)\n",
    "        X_test[col] = X_test[col].fillna(median_val)\n",
    "\n",
    "print(X_train.isna().sum())\n",
    "print(X_test.isna().sum())"
   ]
  },
  {
   "cell_type": "code",
   "execution_count": 129,
   "id": "7d7ff832",
   "metadata": {},
   "outputs": [],
   "source": [
    "scaler = RobustScaler()\n",
    "X_train_scaled = scaler.fit_transform(X_train)\n",
    "X_test_scaled = scaler.transform(X_test)"
   ]
  },
  {
   "cell_type": "code",
   "execution_count": 130,
   "id": "abafca8a",
   "metadata": {},
   "outputs": [
    {
     "name": "stdout",
     "output_type": "stream",
     "text": [
      "48.41483579858552\n"
     ]
    }
   ],
   "source": [
    "lasso = Lasso(alpha=0.01, max_iter=10000)\n",
    "\n",
    "pipe = Pipeline([\n",
    "    # ('poly', PolynomialFeatures(degree = 1, include_bias=False, interaction_only=True)),\n",
    "    ('model', lasso)\n",
    "])\n",
    "\n",
    "pipe.fit(X_train_scaled, y_train)\n",
    "predictions = pipe.predict(X_test_scaled)\n",
    "\n",
    "mse = -np.mean(cross_val_score(pipe, X_train_scaled, y_train, cv=5, scoring='neg_mean_squared_error'))\n",
    "print(mse)\n",
    "\n",
    "\n",
    "submission = pd.DataFrame({\n",
    "    'index': df_test.index,\n",
    "    'Y house price of unit area': predictions\n",
    "})\n",
    "submission.to_csv('submission.csv', index=False)\n"
   ]
  }
 ],
 "metadata": {
  "kernelspec": {
   "display_name": "Python 3",
   "language": "python",
   "name": "python3"
  },
  "language_info": {
   "codemirror_mode": {
    "name": "ipython",
    "version": 3
   },
   "file_extension": ".py",
   "mimetype": "text/x-python",
   "name": "python",
   "nbconvert_exporter": "python",
   "pygments_lexer": "ipython3",
   "version": "3.11.11"
  }
 },
 "nbformat": 4,
 "nbformat_minor": 5
}
